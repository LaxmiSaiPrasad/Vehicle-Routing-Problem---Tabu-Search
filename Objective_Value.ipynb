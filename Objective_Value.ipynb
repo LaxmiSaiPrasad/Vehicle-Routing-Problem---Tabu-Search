{
 "cells": [
  {
   "cell_type": "code",
   "execution_count": 1,
   "metadata": {},
   "outputs": [],
   "source": [
    "import numpy as np\n",
    "import pandas as pd\n",
    "import matplotlib.pyplot as plt\n",
    "import scipy.spatial.distance as ssd\n",
    "import random as rd"
   ]
  },
  {
   "cell_type": "code",
   "execution_count": 1,
   "metadata": {},
   "outputs": [],
   "source": [
    "# Data\n",
    "# X coordinates\n",
    "x_coordinates = np.array([82,82,82,82,82,82,82,82,82,82,\\\n",
    "                            96,50,49,13,29,58,84,14,2,3,\\\n",
    "                            5,98,84,61,1,88,91,19,93,50,\\\n",
    "                            98,5,42,61,9,80,57,23,20,85,98])\n",
    "\n",
    "# Y coordinates\n",
    "y_coordinates = np.array([76,76,76,76,76,76,76,76,76,76,\\\n",
    "                            44,5,8,7,89,30,39,24,39,82,\\\n",
    "                            10,52,25,59,65,51,2,32,3,93,\\\n",
    "                            14,42,9,62,97,55,69,15,70,60,5])\n",
    "\n",
    "capacities = np.array([0,0,0,0,0,0,0,0,0,0,\\\n",
    "                       19,21,6,19,7,12,16,6,16,8,\\\n",
    "                       14,21,16,3,22,18,19,1,24,8,\\\n",
    "                       12,4,8,24,24,2,20,15,2,14,9])"
   ]
  },
  {
   "cell_type": "code",
   "execution_count": null,
   "metadata": {},
   "outputs": [],
   "source": [
    "# Stack them beside of each other\n",
    "x_y_coordinates = np.column_stack((x_coordinates,\\\n",
    "                                     y_coordinates))\n",
    "\n",
    "# Create a distance matrix from the Euclidean distance\n",
    "distance_matrix = ssd.cdist(x_y_coordinates,\\\n",
    "                            x_y_coordinates,'euclidean')\n",
    "\n",
    "# Create a distance dataframe\n",
    "dist_dataframe = pd.DataFrame(distance_matrix,\\\n",
    "                              columns=[i for i in range(1,42,1)],\\\n",
    "                              index=[i for i in range(1,42,1)])\n",
    "# Create a capacity dataframe\n",
    "cap_dataframe = pd.DataFrame(capacities,\\\n",
    "                             columns=[\"Capacity\"],\\\n",
    "                             index=[i for i in range(1,42,1)])"
   ]
  },
  {
   "cell_type": "code",
   "execution_count": 5,
   "metadata": {},
   "outputs": [],
   "source": [
    "# Initial solution to start with\n",
    "x_0 = [24,26,22,31,11,16,25,30,34,12,14,1,20,39,15,5,36,13,18,19,32\\\n",
    "       ,38,28,10,9,23,33,21,7,4,40,35,2,17,8,6,37,3,29,27,41]"
   ]
  },
  {
   "cell_type": "code",
   "execution_count": 13,
   "metadata": {},
   "outputs": [],
   "source": [
    "def Complete_Distance_Not_Random(Dist_Array):\n",
    "    \n",
    "    global dist_dataframe\n",
    "    \n",
    "    distances = []\n",
    "    \n",
    "    for i in range(0,len(Dist_Array)-1,1):\n",
    "        distances.append(dist_dataframe.loc[Dist_Array[i],Dist_Array[i+1]])\n",
    "    \n",
    "    length_of_travel = sum(distances)\n",
    "    \n",
    "    return length_of_travel"
   ]
  },
  {
   "cell_type": "code",
   "execution_count": null,
   "metadata": {},
   "outputs": [],
   "source": [
    "def Penalty_Capacity_Violation(Array,Penalty_Value, Number_Of_Trucks):\n",
    "  \n",
    "    # Indices of warehouse\n",
    "    warehouse_index = [i for i in range(1,(2*Number_Of_Trucks)+1,1)]\n",
    "    \n",
    "    # Index of warehouse in the path in \"Array\"\n",
    "    path_warehouse_index = [index \\\n",
    "                            for index,value in enumerate(Array) \\\n",
    "                            if value in warehouse_index]\n",
    "    \n",
    "    # \"route_capacities\" is list with i-th index indicative of capacity in \n",
    "    # i-th route\n",
    "    route_capacities  = []\n",
    "    excess_capacity =[]\n",
    "    \n",
    "    for k in range(len(path_warehouse_index)):\n",
    "        \n",
    "        if k+1 <= len(path_warehouse_index):\n",
    "            \n",
    "            Ind_1 = Array[path_warehouse_index[k]] \n",
    "            Ind_2 = Array[path_warehouse_index[k]+1]\n",
    "            \n",
    "            total_capacity = 0\n",
    "            \n",
    "            if (Ind_2 in warehouse_index) & (Ind_1 in warehouse_index):\n",
    "                pass\n",
    "            else:\n",
    "                route_index = Array[(path_warehouse_index[k]+1):\\\n",
    "                                          path_warehouse_index[k+1]] \n",
    "                for node in route_index: \n",
    "                    total_capacity += cap_dataframe.loc[node,'Capacity']\n",
    "            \n",
    "            route_capacities.append(total_capacity)  \n",
    "            \n",
    "            if total_capacity > 100:\n",
    "                excess_capacity.append(total_capacity-100)\n",
    "            else:\n",
    "                excess_capacity.append(0)\n",
    "\n",
    "    penalty = sum(excess_capacity)*Penalty_Value\n",
    "    \n",
    "    return penalty"
   ]
  },
  {
   "cell_type": "code",
   "execution_count": null,
   "metadata": {},
   "outputs": [],
   "source": [
    "def Penalty_Sequence(Array,Penalty_Value_1,Penalty_Value_2, Number_Of_Trucks):\n",
    "    \n",
    "    penalty = 0\n",
    "    \n",
    "    # Indices of warehouse\n",
    "    warehouse_index = [i for i in range(1,(2*Number_Of_Trucks)+1,1)]\n",
    "    \n",
    "    if Array[0] not in warehouse_index: \n",
    "        penalty += Penalty_Value_1\n",
    "    \n",
    "    if Array[-1] not in warehouse_index:\n",
    "        penalty += Penalty_Value_1\n",
    "        \n",
    "    if Array[1] in warehouse_index:\n",
    "        penalty += Penalty_Value_1\n",
    "        \n",
    "    if Array[-2] in warehouse_index:\n",
    "        penalty += Penalty_Value_1\n",
    "\n",
    "    for i in range(len(Array)):\n",
    "        if t < len(Array)-2:\n",
    "            A1 = Array[t]\n",
    "            A2 = Array[t+1]\n",
    "            A3 = Array[t+2]\n",
    "            if (A1 in warehouse_index) and \\\n",
    "            (A2 in warehouse_index) and (A3 in warehouse_index):\n",
    "                penalty += Penalty_Value_2\n",
    "                \n",
    "    return penalty"
   ]
  },
  {
   "cell_type": "code",
   "execution_count": null,
   "metadata": {},
   "outputs": [],
   "source": [
    "def Penalty_End_Points(Array,Penalty_Value, Number_Of_Trucks):\n",
    "    \n",
    "    penalty = 0\n",
    "    \n",
    "    # Indices of warehouse\n",
    "    warehouse_index = [i for i in range(1,(2*Number_Of_Trucks)+1,1)]\n",
    "    \n",
    "    if Array[0] not in warehouse_index:\n",
    "        penalty += Penalty_Value\n",
    "    \n",
    "    if Array[-1] not in warehouse_index:\n",
    "        penalty += Penalty_Value_1\n",
    "\n",
    "    return penalty"
   ]
  }
 ],
 "metadata": {
  "kernelspec": {
   "display_name": "Python 3",
   "language": "python",
   "name": "python3"
  },
  "language_info": {
   "codemirror_mode": {
    "name": "ipython",
    "version": 3
   },
   "file_extension": ".py",
   "mimetype": "text/x-python",
   "name": "python",
   "nbconvert_exporter": "python",
   "pygments_lexer": "ipython3",
   "version": "3.7.1"
  }
 },
 "nbformat": 4,
 "nbformat_minor": 2
}
